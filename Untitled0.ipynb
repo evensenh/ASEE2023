{
  "nbformat": 4,
  "nbformat_minor": 0,
  "metadata": {
    "colab": {
      "provenance": [],
      "authorship_tag": "ABX9TyNxMYIJc0ZqiYYP3GDhnKxo",
      "include_colab_link": true
    },
    "kernelspec": {
      "name": "python3",
      "display_name": "Python 3"
    },
    "language_info": {
      "name": "python"
    }
  },
  "cells": [
    {
      "cell_type": "markdown",
      "metadata": {
        "id": "view-in-github",
        "colab_type": "text"
      },
      "source": [
        "<a href=\"https://colab.research.google.com/github/evensenh/ASEE2023/blob/main/Untitled0.ipynb\" target=\"_parent\"><img src=\"https://colab.research.google.com/assets/colab-badge.svg\" alt=\"Open In Colab\"/></a>"
      ]
    },
    {
      "cell_type": "code",
      "execution_count": null,
      "metadata": {
        "colab": {
          "base_uri": "https://localhost:8080/"
        },
        "id": "4hKoBLm_vf98",
        "outputId": "dc502dae-6fcd-43db-99a6-e183cb803545"
      },
      "outputs": [
        {
          "output_type": "stream",
          "name": "stdout",
          "text": [
            "helloo\n"
          ]
        }
      ],
      "source": [
        "print(\"helloo\")"
      ]
    },
    {
      "cell_type": "markdown",
      "source": [
        "This is sample text.\n",
        "\n",
        "New line.\n",
        "\n",
        "   **New font.**\n",
        "\n",
        "New line??\n",
        "\n",
        "\n",
        "New line?\n",
        "\n",
        "---\n",
        "New line?\n",
        "\n"
      ],
      "metadata": {
        "id": "3UGw49g-vlUX"
      }
    },
    {
      "cell_type": "code",
      "source": [
        "x=3\n",
        "y=4\n",
        "print(x+y)\n"
      ],
      "metadata": {
        "colab": {
          "base_uri": "https://localhost:8080/"
        },
        "id": "voyVn_m-wL5x",
        "outputId": "f146c07b-65df-45cf-efe9-1eeea8859812"
      },
      "execution_count": 3,
      "outputs": [
        {
          "output_type": "stream",
          "name": "stdout",
          "text": [
            "7\n"
          ]
        }
      ]
    }
  ]
}